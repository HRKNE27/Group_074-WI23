{
 "cells": [
  {
   "cell_type": "markdown",
   "metadata": {},
   "source": [
    "# COGS 108 - EDA Checkpoint"
   ]
  },
  {
   "attachments": {},
   "cell_type": "markdown",
   "metadata": {},
   "source": [
    "# Names\n",
    "\n",
    "- Gideon Chan\n",
    "- Nancy Jiang\n",
    "- Elliot Kim\n",
    "- Harrison Nguyen\n",
    "- Jose Mateo"
   ]
  },
  {
   "cell_type": "markdown",
   "metadata": {},
   "source": [
    "<a id='research_question'></a>\n",
    "# Research Question"
   ]
  },
  {
   "attachments": {},
   "cell_type": "markdown",
   "metadata": {},
   "source": [
    "How well can we model the gas prices of California and the United States? How do the models compare to each other?\n"
   ]
  },
  {
   "cell_type": "markdown",
   "metadata": {},
   "source": [
    "# Setup"
   ]
  },
  {
   "cell_type": "code",
   "execution_count": 2,
   "metadata": {},
   "outputs": [],
   "source": [
    "import pandas as pd\n",
    "import numpy as np\n",
    "import xlrd\n",
    "import seaborn as sns\n",
    "import matplotlib.pyplot as plt"
   ]
  },
  {
   "cell_type": "markdown",
   "metadata": {},
   "source": [
    "# Data Cleaning"
   ]
  },
  {
   "cell_type": "markdown",
   "metadata": {},
   "source": [
    "Those two datasets are in xlw format, and we need to read each dataset into a dataframe with only the spreadsheet of weekly gasoline prices. Then we match those two dataset with exact same weekly date, so it's fair when we compare the two models after we train them. After we merge the datasets, we extract year and month from the original date, so we can have a better understanding of the data."
   ]
  },
  {
   "cell_type": "code",
   "execution_count": 52,
   "metadata": {},
   "outputs": [],
   "source": [
    "df_ca = pd.DataFrame(pd.read_excel(\"dataset/CA.xls.xlw\", \n",
    "                                   engine = \"xlrd\",sheet_name='Data 1'))\n",
    "df_us = pd.DataFrame(pd.read_excel(\"dataset/US.xls.xlw\",\n",
    "                                   engine = \"xlrd\",sheet_name='Data 1'))\n",
    "df_us_inf = pd.read_csv(\"dataset/US_Inflation.csv\")"
   ]
  },
  {
   "cell_type": "code",
   "execution_count": 53,
   "metadata": {},
   "outputs": [
    {
     "data": {
      "text/html": [
       "<div>\n",
       "<style scoped>\n",
       "    .dataframe tbody tr th:only-of-type {\n",
       "        vertical-align: middle;\n",
       "    }\n",
       "\n",
       "    .dataframe tbody tr th {\n",
       "        vertical-align: top;\n",
       "    }\n",
       "\n",
       "    .dataframe thead th {\n",
       "        text-align: right;\n",
       "    }\n",
       "</style>\n",
       "<table border=\"1\" class=\"dataframe\">\n",
       "  <thead>\n",
       "    <tr style=\"text-align: right;\">\n",
       "      <th></th>\n",
       "      <th>date</th>\n",
       "      <th>gasoline price</th>\n",
       "    </tr>\n",
       "  </thead>\n",
       "  <tbody>\n",
       "    <tr>\n",
       "      <th>0</th>\n",
       "      <td>1993-04-05 00:00:00</td>\n",
       "      <td>1.068</td>\n",
       "    </tr>\n",
       "    <tr>\n",
       "      <th>1</th>\n",
       "      <td>1993-04-12 00:00:00</td>\n",
       "      <td>1.079</td>\n",
       "    </tr>\n",
       "    <tr>\n",
       "      <th>2</th>\n",
       "      <td>1993-04-19 00:00:00</td>\n",
       "      <td>1.079</td>\n",
       "    </tr>\n",
       "    <tr>\n",
       "      <th>3</th>\n",
       "      <td>1993-04-26 00:00:00</td>\n",
       "      <td>1.086</td>\n",
       "    </tr>\n",
       "    <tr>\n",
       "      <th>4</th>\n",
       "      <td>1993-05-03 00:00:00</td>\n",
       "      <td>1.086</td>\n",
       "    </tr>\n",
       "    <tr>\n",
       "      <th>...</th>\n",
       "      <td>...</td>\n",
       "      <td>...</td>\n",
       "    </tr>\n",
       "    <tr>\n",
       "      <th>1556</th>\n",
       "      <td>2023-01-30 00:00:00</td>\n",
       "      <td>3.594</td>\n",
       "    </tr>\n",
       "    <tr>\n",
       "      <th>1557</th>\n",
       "      <td>2023-02-06 00:00:00</td>\n",
       "      <td>3.552</td>\n",
       "    </tr>\n",
       "    <tr>\n",
       "      <th>1558</th>\n",
       "      <td>2023-02-13 00:00:00</td>\n",
       "      <td>3.502</td>\n",
       "    </tr>\n",
       "    <tr>\n",
       "      <th>1559</th>\n",
       "      <td>2023-02-20 00:00:00</td>\n",
       "      <td>3.494</td>\n",
       "    </tr>\n",
       "    <tr>\n",
       "      <th>1560</th>\n",
       "      <td>2023-02-27 00:00:00</td>\n",
       "      <td>3.457</td>\n",
       "    </tr>\n",
       "  </tbody>\n",
       "</table>\n",
       "<p>1561 rows × 2 columns</p>\n",
       "</div>"
      ],
      "text/plain": [
       "                     date gasoline price\n",
       "0     1993-04-05 00:00:00          1.068\n",
       "1     1993-04-12 00:00:00          1.079\n",
       "2     1993-04-19 00:00:00          1.079\n",
       "3     1993-04-26 00:00:00          1.086\n",
       "4     1993-05-03 00:00:00          1.086\n",
       "...                   ...            ...\n",
       "1556  2023-01-30 00:00:00          3.594\n",
       "1557  2023-02-06 00:00:00          3.552\n",
       "1558  2023-02-13 00:00:00          3.502\n",
       "1559  2023-02-20 00:00:00          3.494\n",
       "1560  2023-02-27 00:00:00          3.457\n",
       "\n",
       "[1561 rows x 2 columns]"
      ]
     },
     "execution_count": 53,
     "metadata": {},
     "output_type": "execute_result"
    }
   ],
   "source": [
    "df_us.columns=['date','gasoline price']\n",
    "df_us = df_us.iloc[2:, :].reset_index(drop = True)\n",
    "df_us "
   ]
  },
  {
   "cell_type": "code",
   "execution_count": 54,
   "metadata": {},
   "outputs": [
    {
     "data": {
      "text/html": [
       "<div>\n",
       "<style scoped>\n",
       "    .dataframe tbody tr th:only-of-type {\n",
       "        vertical-align: middle;\n",
       "    }\n",
       "\n",
       "    .dataframe tbody tr th {\n",
       "        vertical-align: top;\n",
       "    }\n",
       "\n",
       "    .dataframe thead th {\n",
       "        text-align: right;\n",
       "    }\n",
       "</style>\n",
       "<table border=\"1\" class=\"dataframe\">\n",
       "  <thead>\n",
       "    <tr style=\"text-align: right;\">\n",
       "      <th></th>\n",
       "      <th>date</th>\n",
       "      <th>gasoline price</th>\n",
       "    </tr>\n",
       "  </thead>\n",
       "  <tbody>\n",
       "    <tr>\n",
       "      <th>0</th>\n",
       "      <td>2000-05-22 00:00:00</td>\n",
       "      <td>1.679</td>\n",
       "    </tr>\n",
       "    <tr>\n",
       "      <th>1</th>\n",
       "      <td>2000-05-29 00:00:00</td>\n",
       "      <td>1.673</td>\n",
       "    </tr>\n",
       "    <tr>\n",
       "      <th>2</th>\n",
       "      <td>2000-06-05 00:00:00</td>\n",
       "      <td>1.661</td>\n",
       "    </tr>\n",
       "    <tr>\n",
       "      <th>3</th>\n",
       "      <td>2000-06-12 00:00:00</td>\n",
       "      <td>1.662</td>\n",
       "    </tr>\n",
       "    <tr>\n",
       "      <th>4</th>\n",
       "      <td>2000-06-19 00:00:00</td>\n",
       "      <td>1.664</td>\n",
       "    </tr>\n",
       "    <tr>\n",
       "      <th>...</th>\n",
       "      <td>...</td>\n",
       "      <td>...</td>\n",
       "    </tr>\n",
       "    <tr>\n",
       "      <th>1184</th>\n",
       "      <td>2023-01-30 00:00:00</td>\n",
       "      <td>4.462</td>\n",
       "    </tr>\n",
       "    <tr>\n",
       "      <th>1185</th>\n",
       "      <td>2023-02-06 00:00:00</td>\n",
       "      <td>4.514</td>\n",
       "    </tr>\n",
       "    <tr>\n",
       "      <th>1186</th>\n",
       "      <td>2023-02-13 00:00:00</td>\n",
       "      <td>4.535</td>\n",
       "    </tr>\n",
       "    <tr>\n",
       "      <th>1187</th>\n",
       "      <td>2023-02-20 00:00:00</td>\n",
       "      <td>4.626</td>\n",
       "    </tr>\n",
       "    <tr>\n",
       "      <th>1188</th>\n",
       "      <td>2023-02-27 00:00:00</td>\n",
       "      <td>4.687</td>\n",
       "    </tr>\n",
       "  </tbody>\n",
       "</table>\n",
       "<p>1189 rows × 2 columns</p>\n",
       "</div>"
      ],
      "text/plain": [
       "                     date gasoline price\n",
       "0     2000-05-22 00:00:00          1.679\n",
       "1     2000-05-29 00:00:00          1.673\n",
       "2     2000-06-05 00:00:00          1.661\n",
       "3     2000-06-12 00:00:00          1.662\n",
       "4     2000-06-19 00:00:00          1.664\n",
       "...                   ...            ...\n",
       "1184  2023-01-30 00:00:00          4.462\n",
       "1185  2023-02-06 00:00:00          4.514\n",
       "1186  2023-02-13 00:00:00          4.535\n",
       "1187  2023-02-20 00:00:00          4.626\n",
       "1188  2023-02-27 00:00:00          4.687\n",
       "\n",
       "[1189 rows x 2 columns]"
      ]
     },
     "execution_count": 54,
     "metadata": {},
     "output_type": "execute_result"
    }
   ],
   "source": [
    "df_ca.columns=['date','gasoline price']\n",
    "df_ca = df_ca.iloc[2:, :].reset_index(drop = True)\n",
    "df_ca "
   ]
  },
  {
   "cell_type": "code",
   "execution_count": 55,
   "metadata": {},
   "outputs": [
    {
     "data": {
      "text/html": [
       "<div>\n",
       "<style scoped>\n",
       "    .dataframe tbody tr th:only-of-type {\n",
       "        vertical-align: middle;\n",
       "    }\n",
       "\n",
       "    .dataframe tbody tr th {\n",
       "        vertical-align: top;\n",
       "    }\n",
       "\n",
       "    .dataframe thead th {\n",
       "        text-align: right;\n",
       "    }\n",
       "</style>\n",
       "<table border=\"1\" class=\"dataframe\">\n",
       "  <thead>\n",
       "    <tr style=\"text-align: right;\">\n",
       "      <th></th>\n",
       "      <th>date</th>\n",
       "      <th>price_us</th>\n",
       "      <th>price_ca</th>\n",
       "    </tr>\n",
       "  </thead>\n",
       "  <tbody>\n",
       "    <tr>\n",
       "      <th>0</th>\n",
       "      <td>2000-05-22 00:00:00</td>\n",
       "      <td>1.566</td>\n",
       "      <td>1.679</td>\n",
       "    </tr>\n",
       "    <tr>\n",
       "      <th>1</th>\n",
       "      <td>2000-05-29 00:00:00</td>\n",
       "      <td>1.579</td>\n",
       "      <td>1.673</td>\n",
       "    </tr>\n",
       "    <tr>\n",
       "      <th>2</th>\n",
       "      <td>2000-06-05 00:00:00</td>\n",
       "      <td>1.599</td>\n",
       "      <td>1.661</td>\n",
       "    </tr>\n",
       "    <tr>\n",
       "      <th>3</th>\n",
       "      <td>2000-06-12 00:00:00</td>\n",
       "      <td>1.664</td>\n",
       "      <td>1.662</td>\n",
       "    </tr>\n",
       "    <tr>\n",
       "      <th>4</th>\n",
       "      <td>2000-06-19 00:00:00</td>\n",
       "      <td>1.711</td>\n",
       "      <td>1.664</td>\n",
       "    </tr>\n",
       "    <tr>\n",
       "      <th>...</th>\n",
       "      <td>...</td>\n",
       "      <td>...</td>\n",
       "      <td>...</td>\n",
       "    </tr>\n",
       "    <tr>\n",
       "      <th>1184</th>\n",
       "      <td>2023-01-30 00:00:00</td>\n",
       "      <td>3.594</td>\n",
       "      <td>4.462</td>\n",
       "    </tr>\n",
       "    <tr>\n",
       "      <th>1185</th>\n",
       "      <td>2023-02-06 00:00:00</td>\n",
       "      <td>3.552</td>\n",
       "      <td>4.514</td>\n",
       "    </tr>\n",
       "    <tr>\n",
       "      <th>1186</th>\n",
       "      <td>2023-02-13 00:00:00</td>\n",
       "      <td>3.502</td>\n",
       "      <td>4.535</td>\n",
       "    </tr>\n",
       "    <tr>\n",
       "      <th>1187</th>\n",
       "      <td>2023-02-20 00:00:00</td>\n",
       "      <td>3.494</td>\n",
       "      <td>4.626</td>\n",
       "    </tr>\n",
       "    <tr>\n",
       "      <th>1188</th>\n",
       "      <td>2023-02-27 00:00:00</td>\n",
       "      <td>3.457</td>\n",
       "      <td>4.687</td>\n",
       "    </tr>\n",
       "  </tbody>\n",
       "</table>\n",
       "<p>1189 rows × 3 columns</p>\n",
       "</div>"
      ],
      "text/plain": [
       "                     date price_us price_ca\n",
       "0     2000-05-22 00:00:00    1.566    1.679\n",
       "1     2000-05-29 00:00:00    1.579    1.673\n",
       "2     2000-06-05 00:00:00    1.599    1.661\n",
       "3     2000-06-12 00:00:00    1.664    1.662\n",
       "4     2000-06-19 00:00:00    1.711    1.664\n",
       "...                   ...      ...      ...\n",
       "1184  2023-01-30 00:00:00    3.594    4.462\n",
       "1185  2023-02-06 00:00:00    3.552    4.514\n",
       "1186  2023-02-13 00:00:00    3.502    4.535\n",
       "1187  2023-02-20 00:00:00    3.494    4.626\n",
       "1188  2023-02-27 00:00:00    3.457    4.687\n",
       "\n",
       "[1189 rows x 3 columns]"
      ]
     },
     "execution_count": 55,
     "metadata": {},
     "output_type": "execute_result"
    }
   ],
   "source": [
    "df = pd.merge(df_us, df_ca, on=\"date\")\n",
    "df.columns = ['date','price_us','price_ca']\n",
    "df"
   ]
  },
  {
   "cell_type": "code",
   "execution_count": 56,
   "metadata": {},
   "outputs": [],
   "source": [
    "df['year'] = pd.to_datetime(df['date']).dt.year\n",
    "df['month'] = pd.to_datetime(df['date']).dt.month"
   ]
  },
  {
   "cell_type": "code",
   "execution_count": 57,
   "metadata": {},
   "outputs": [
    {
     "data": {
      "text/html": [
       "<div>\n",
       "<style scoped>\n",
       "    .dataframe tbody tr th:only-of-type {\n",
       "        vertical-align: middle;\n",
       "    }\n",
       "\n",
       "    .dataframe tbody tr th {\n",
       "        vertical-align: top;\n",
       "    }\n",
       "\n",
       "    .dataframe thead th {\n",
       "        text-align: right;\n",
       "    }\n",
       "</style>\n",
       "<table border=\"1\" class=\"dataframe\">\n",
       "  <thead>\n",
       "    <tr style=\"text-align: right;\">\n",
       "      <th></th>\n",
       "      <th>date</th>\n",
       "      <th>price_us</th>\n",
       "      <th>price_ca</th>\n",
       "      <th>year</th>\n",
       "      <th>month</th>\n",
       "    </tr>\n",
       "  </thead>\n",
       "  <tbody>\n",
       "    <tr>\n",
       "      <th>0</th>\n",
       "      <td>2000-05-22 00:00:00</td>\n",
       "      <td>1.566</td>\n",
       "      <td>1.679</td>\n",
       "      <td>2000</td>\n",
       "      <td>5</td>\n",
       "    </tr>\n",
       "    <tr>\n",
       "      <th>1</th>\n",
       "      <td>2000-05-29 00:00:00</td>\n",
       "      <td>1.579</td>\n",
       "      <td>1.673</td>\n",
       "      <td>2000</td>\n",
       "      <td>5</td>\n",
       "    </tr>\n",
       "    <tr>\n",
       "      <th>2</th>\n",
       "      <td>2000-06-05 00:00:00</td>\n",
       "      <td>1.599</td>\n",
       "      <td>1.661</td>\n",
       "      <td>2000</td>\n",
       "      <td>6</td>\n",
       "    </tr>\n",
       "    <tr>\n",
       "      <th>3</th>\n",
       "      <td>2000-06-12 00:00:00</td>\n",
       "      <td>1.664</td>\n",
       "      <td>1.662</td>\n",
       "      <td>2000</td>\n",
       "      <td>6</td>\n",
       "    </tr>\n",
       "    <tr>\n",
       "      <th>4</th>\n",
       "      <td>2000-06-19 00:00:00</td>\n",
       "      <td>1.711</td>\n",
       "      <td>1.664</td>\n",
       "      <td>2000</td>\n",
       "      <td>6</td>\n",
       "    </tr>\n",
       "    <tr>\n",
       "      <th>...</th>\n",
       "      <td>...</td>\n",
       "      <td>...</td>\n",
       "      <td>...</td>\n",
       "      <td>...</td>\n",
       "      <td>...</td>\n",
       "    </tr>\n",
       "    <tr>\n",
       "      <th>1184</th>\n",
       "      <td>2023-01-30 00:00:00</td>\n",
       "      <td>3.594</td>\n",
       "      <td>4.462</td>\n",
       "      <td>2023</td>\n",
       "      <td>1</td>\n",
       "    </tr>\n",
       "    <tr>\n",
       "      <th>1185</th>\n",
       "      <td>2023-02-06 00:00:00</td>\n",
       "      <td>3.552</td>\n",
       "      <td>4.514</td>\n",
       "      <td>2023</td>\n",
       "      <td>2</td>\n",
       "    </tr>\n",
       "    <tr>\n",
       "      <th>1186</th>\n",
       "      <td>2023-02-13 00:00:00</td>\n",
       "      <td>3.502</td>\n",
       "      <td>4.535</td>\n",
       "      <td>2023</td>\n",
       "      <td>2</td>\n",
       "    </tr>\n",
       "    <tr>\n",
       "      <th>1187</th>\n",
       "      <td>2023-02-20 00:00:00</td>\n",
       "      <td>3.494</td>\n",
       "      <td>4.626</td>\n",
       "      <td>2023</td>\n",
       "      <td>2</td>\n",
       "    </tr>\n",
       "    <tr>\n",
       "      <th>1188</th>\n",
       "      <td>2023-02-27 00:00:00</td>\n",
       "      <td>3.457</td>\n",
       "      <td>4.687</td>\n",
       "      <td>2023</td>\n",
       "      <td>2</td>\n",
       "    </tr>\n",
       "  </tbody>\n",
       "</table>\n",
       "<p>1189 rows × 5 columns</p>\n",
       "</div>"
      ],
      "text/plain": [
       "                     date price_us price_ca  year  month\n",
       "0     2000-05-22 00:00:00    1.566    1.679  2000      5\n",
       "1     2000-05-29 00:00:00    1.579    1.673  2000      5\n",
       "2     2000-06-05 00:00:00    1.599    1.661  2000      6\n",
       "3     2000-06-12 00:00:00    1.664    1.662  2000      6\n",
       "4     2000-06-19 00:00:00    1.711    1.664  2000      6\n",
       "...                   ...      ...      ...   ...    ...\n",
       "1184  2023-01-30 00:00:00    3.594    4.462  2023      1\n",
       "1185  2023-02-06 00:00:00    3.552    4.514  2023      2\n",
       "1186  2023-02-13 00:00:00    3.502    4.535  2023      2\n",
       "1187  2023-02-20 00:00:00    3.494    4.626  2023      2\n",
       "1188  2023-02-27 00:00:00    3.457    4.687  2023      2\n",
       "\n",
       "[1189 rows x 5 columns]"
      ]
     },
     "execution_count": 57,
     "metadata": {},
     "output_type": "execute_result"
    }
   ],
   "source": [
    "df"
   ]
  },
  {
   "cell_type": "code",
   "execution_count": 58,
   "metadata": {},
   "outputs": [],
   "source": [
    "df_us_inf = df_us_inf.drop(\"Series ID\",axis = 1)"
   ]
  },
  {
   "cell_type": "code",
   "execution_count": 59,
   "metadata": {},
   "outputs": [
    {
     "data": {
      "text/plain": [
       "array(['M01', 'M02', 'M03', 'M04', 'M05', 'M06', 'M07', 'M08', 'M09',\n",
       "       'M10', 'M11', 'M12'], dtype=object)"
      ]
     },
     "execution_count": 59,
     "metadata": {},
     "output_type": "execute_result"
    }
   ],
   "source": [
    "df_us_inf = df_us_inf.drop(df_us_inf[(df_us_inf[\"Period\"] == \"S01\") | (df_us_inf[\"Period\"] == \"S02\")].index)\n",
    "df_us_inf[\"Period\"].unique()"
   ]
  },
  {
   "cell_type": "code",
   "execution_count": 60,
   "metadata": {},
   "outputs": [],
   "source": [
    "df_us_inf\n",
    "df_us_inf.loc[df_us_inf[\"Period\"] == \"M01\", \"Period\"] = 1\n",
    "df_us_inf.loc[df_us_inf[\"Period\"] == \"M02\", \"Period\"] = 2\n",
    "df_us_inf.loc[df_us_inf[\"Period\"] == \"M03\", \"Period\"] = 3\n",
    "df_us_inf.loc[df_us_inf[\"Period\"] == \"M04\", \"Period\"] = 4\n",
    "df_us_inf.loc[df_us_inf[\"Period\"] == \"M05\", \"Period\"] = 5\n",
    "df_us_inf.loc[df_us_inf[\"Period\"] == \"M06\", \"Period\"] = 6\n",
    "df_us_inf.loc[df_us_inf[\"Period\"] == \"M07\", \"Period\"] = 7\n",
    "df_us_inf.loc[df_us_inf[\"Period\"] == \"M08\", \"Period\"] = 8\n",
    "df_us_inf.loc[df_us_inf[\"Period\"] == \"M09\", \"Period\"] = 9\n",
    "df_us_inf.loc[df_us_inf[\"Period\"] == \"M10\", \"Period\"] = 10\n",
    "df_us_inf.loc[df_us_inf[\"Period\"] == \"M11\", \"Period\"] = 11\n",
    "df_us_inf.loc[df_us_inf[\"Period\"] == \"M12\", \"Period\"] = 12"
   ]
  },
  {
   "cell_type": "code",
   "execution_count": 64,
   "metadata": {},
   "outputs": [
    {
     "data": {
      "text/html": [
       "<div>\n",
       "<style scoped>\n",
       "    .dataframe tbody tr th:only-of-type {\n",
       "        vertical-align: middle;\n",
       "    }\n",
       "\n",
       "    .dataframe tbody tr th {\n",
       "        vertical-align: top;\n",
       "    }\n",
       "\n",
       "    .dataframe thead th {\n",
       "        text-align: right;\n",
       "    }\n",
       "</style>\n",
       "<table border=\"1\" class=\"dataframe\">\n",
       "  <thead>\n",
       "    <tr style=\"text-align: right;\">\n",
       "      <th></th>\n",
       "      <th>year</th>\n",
       "      <th>month</th>\n",
       "      <th>inflation</th>\n",
       "    </tr>\n",
       "  </thead>\n",
       "  <tbody>\n",
       "    <tr>\n",
       "      <th>0</th>\n",
       "      <td>2000</td>\n",
       "      <td>1</td>\n",
       "      <td>2.0</td>\n",
       "    </tr>\n",
       "    <tr>\n",
       "      <th>1</th>\n",
       "      <td>2000</td>\n",
       "      <td>2</td>\n",
       "      <td>2.2</td>\n",
       "    </tr>\n",
       "    <tr>\n",
       "      <th>2</th>\n",
       "      <td>2000</td>\n",
       "      <td>3</td>\n",
       "      <td>2.4</td>\n",
       "    </tr>\n",
       "    <tr>\n",
       "      <th>3</th>\n",
       "      <td>2000</td>\n",
       "      <td>4</td>\n",
       "      <td>2.3</td>\n",
       "    </tr>\n",
       "    <tr>\n",
       "      <th>4</th>\n",
       "      <td>2000</td>\n",
       "      <td>5</td>\n",
       "      <td>2.4</td>\n",
       "    </tr>\n",
       "    <tr>\n",
       "      <th>...</th>\n",
       "      <td>...</td>\n",
       "      <td>...</td>\n",
       "      <td>...</td>\n",
       "    </tr>\n",
       "    <tr>\n",
       "      <th>317</th>\n",
       "      <td>2022</td>\n",
       "      <td>10</td>\n",
       "      <td>6.3</td>\n",
       "    </tr>\n",
       "    <tr>\n",
       "      <th>318</th>\n",
       "      <td>2022</td>\n",
       "      <td>11</td>\n",
       "      <td>6.0</td>\n",
       "    </tr>\n",
       "    <tr>\n",
       "      <th>319</th>\n",
       "      <td>2022</td>\n",
       "      <td>12</td>\n",
       "      <td>5.7</td>\n",
       "    </tr>\n",
       "    <tr>\n",
       "      <th>322</th>\n",
       "      <td>2023</td>\n",
       "      <td>1</td>\n",
       "      <td>5.6</td>\n",
       "    </tr>\n",
       "    <tr>\n",
       "      <th>323</th>\n",
       "      <td>2023</td>\n",
       "      <td>2</td>\n",
       "      <td>5.5</td>\n",
       "    </tr>\n",
       "  </tbody>\n",
       "</table>\n",
       "<p>278 rows × 3 columns</p>\n",
       "</div>"
      ],
      "text/plain": [
       "     year month  inflation\n",
       "0    2000     1        2.0\n",
       "1    2000     2        2.2\n",
       "2    2000     3        2.4\n",
       "3    2000     4        2.3\n",
       "4    2000     5        2.4\n",
       "..    ...   ...        ...\n",
       "317  2022    10        6.3\n",
       "318  2022    11        6.0\n",
       "319  2022    12        5.7\n",
       "322  2023     1        5.6\n",
       "323  2023     2        5.5\n",
       "\n",
       "[278 rows x 3 columns]"
      ]
     },
     "execution_count": 64,
     "metadata": {},
     "output_type": "execute_result"
    }
   ],
   "source": [
    "df_us_inf.columns = [\"year\",\"month\",\"inflation\"]\n",
    "df_us_inf"
   ]
  },
  {
   "cell_type": "code",
   "execution_count": 112,
   "metadata": {},
   "outputs": [
    {
     "data": {
      "text/html": [
       "<div>\n",
       "<style scoped>\n",
       "    .dataframe tbody tr th:only-of-type {\n",
       "        vertical-align: middle;\n",
       "    }\n",
       "\n",
       "    .dataframe tbody tr th {\n",
       "        vertical-align: top;\n",
       "    }\n",
       "\n",
       "    .dataframe thead th {\n",
       "        text-align: right;\n",
       "    }\n",
       "</style>\n",
       "<table border=\"1\" class=\"dataframe\">\n",
       "  <thead>\n",
       "    <tr style=\"text-align: right;\">\n",
       "      <th></th>\n",
       "      <th>date</th>\n",
       "      <th>price_us</th>\n",
       "      <th>price_ca</th>\n",
       "      <th>year</th>\n",
       "      <th>month</th>\n",
       "      <th>inflation</th>\n",
       "    </tr>\n",
       "  </thead>\n",
       "  <tbody>\n",
       "    <tr>\n",
       "      <th>0</th>\n",
       "      <td>2000-05-22 00:00:00</td>\n",
       "      <td>1.566</td>\n",
       "      <td>1.679</td>\n",
       "      <td>2000</td>\n",
       "      <td>5</td>\n",
       "      <td>2.4</td>\n",
       "    </tr>\n",
       "    <tr>\n",
       "      <th>1</th>\n",
       "      <td>2000-05-29 00:00:00</td>\n",
       "      <td>1.579</td>\n",
       "      <td>1.673</td>\n",
       "      <td>2000</td>\n",
       "      <td>5</td>\n",
       "      <td>2.4</td>\n",
       "    </tr>\n",
       "    <tr>\n",
       "      <th>2</th>\n",
       "      <td>2000-06-05 00:00:00</td>\n",
       "      <td>1.599</td>\n",
       "      <td>1.661</td>\n",
       "      <td>2000</td>\n",
       "      <td>6</td>\n",
       "      <td>2.5</td>\n",
       "    </tr>\n",
       "    <tr>\n",
       "      <th>3</th>\n",
       "      <td>2000-06-12 00:00:00</td>\n",
       "      <td>1.664</td>\n",
       "      <td>1.662</td>\n",
       "      <td>2000</td>\n",
       "      <td>6</td>\n",
       "      <td>2.5</td>\n",
       "    </tr>\n",
       "    <tr>\n",
       "      <th>4</th>\n",
       "      <td>2000-06-19 00:00:00</td>\n",
       "      <td>1.711</td>\n",
       "      <td>1.664</td>\n",
       "      <td>2000</td>\n",
       "      <td>6</td>\n",
       "      <td>2.5</td>\n",
       "    </tr>\n",
       "    <tr>\n",
       "      <th>...</th>\n",
       "      <td>...</td>\n",
       "      <td>...</td>\n",
       "      <td>...</td>\n",
       "      <td>...</td>\n",
       "      <td>...</td>\n",
       "      <td>...</td>\n",
       "    </tr>\n",
       "    <tr>\n",
       "      <th>1184</th>\n",
       "      <td>2023-01-30 00:00:00</td>\n",
       "      <td>3.594</td>\n",
       "      <td>4.462</td>\n",
       "      <td>2023</td>\n",
       "      <td>1</td>\n",
       "      <td>5.6</td>\n",
       "    </tr>\n",
       "    <tr>\n",
       "      <th>1185</th>\n",
       "      <td>2023-02-06 00:00:00</td>\n",
       "      <td>3.552</td>\n",
       "      <td>4.514</td>\n",
       "      <td>2023</td>\n",
       "      <td>2</td>\n",
       "      <td>5.5</td>\n",
       "    </tr>\n",
       "    <tr>\n",
       "      <th>1186</th>\n",
       "      <td>2023-02-13 00:00:00</td>\n",
       "      <td>3.502</td>\n",
       "      <td>4.535</td>\n",
       "      <td>2023</td>\n",
       "      <td>2</td>\n",
       "      <td>5.5</td>\n",
       "    </tr>\n",
       "    <tr>\n",
       "      <th>1187</th>\n",
       "      <td>2023-02-20 00:00:00</td>\n",
       "      <td>3.494</td>\n",
       "      <td>4.626</td>\n",
       "      <td>2023</td>\n",
       "      <td>2</td>\n",
       "      <td>5.5</td>\n",
       "    </tr>\n",
       "    <tr>\n",
       "      <th>1188</th>\n",
       "      <td>2023-02-27 00:00:00</td>\n",
       "      <td>3.457</td>\n",
       "      <td>4.687</td>\n",
       "      <td>2023</td>\n",
       "      <td>2</td>\n",
       "      <td>5.5</td>\n",
       "    </tr>\n",
       "  </tbody>\n",
       "</table>\n",
       "<p>1189 rows × 6 columns</p>\n",
       "</div>"
      ],
      "text/plain": [
       "                     date price_us price_ca  year  month  inflation\n",
       "0     2000-05-22 00:00:00    1.566    1.679  2000      5        2.4\n",
       "1     2000-05-29 00:00:00    1.579    1.673  2000      5        2.4\n",
       "2     2000-06-05 00:00:00    1.599    1.661  2000      6        2.5\n",
       "3     2000-06-12 00:00:00    1.664    1.662  2000      6        2.5\n",
       "4     2000-06-19 00:00:00    1.711    1.664  2000      6        2.5\n",
       "...                   ...      ...      ...   ...    ...        ...\n",
       "1184  2023-01-30 00:00:00    3.594    4.462  2023      1        5.6\n",
       "1185  2023-02-06 00:00:00    3.552    4.514  2023      2        5.5\n",
       "1186  2023-02-13 00:00:00    3.502    4.535  2023      2        5.5\n",
       "1187  2023-02-20 00:00:00    3.494    4.626  2023      2        5.5\n",
       "1188  2023-02-27 00:00:00    3.457    4.687  2023      2        5.5\n",
       "\n",
       "[1189 rows x 6 columns]"
      ]
     },
     "execution_count": 112,
     "metadata": {},
     "output_type": "execute_result"
    }
   ],
   "source": [
    "df[\"inflation\"] = 0\n",
    "for row in df.itertuples():\n",
    "    temp_year = row.year\n",
    "    temp_month = row.month\n",
    "    temp_inf = df_us_inf.loc[(df_us_inf[\"year\"] == temp_year) & (df_us_inf[\"month\"] == temp_month)][\"inflation\"]\n",
    "    df[\"inflation\"].at[row.Index] = temp_inf\n",
    "df"
   ]
  },
  {
   "cell_type": "markdown",
   "metadata": {},
   "source": [
    "# Data Analysis & Results (EDA)"
   ]
  },
  {
   "attachments": {},
   "cell_type": "markdown",
   "metadata": {},
   "source": [
    "### EDA: Analysis of Price Trend Lines"
   ]
  },
  {
   "attachments": {},
   "cell_type": "markdown",
   "metadata": {},
   "source": [
    "Since our research question is about modeling the gas prices of the US and of CA and comparing those prices, we can first create a simple line chart to show the gas prices of the US and CA over time. "
   ]
  },
  {
   "cell_type": "code",
   "execution_count": 29,
   "metadata": {},
   "outputs": [
    {
     "data": {
      "image/png": "[encoded data removed]",
      "text/plain": [
       "<Figure size 640x480 with 1 Axes>"
      ]
     },
     "metadata": {},
     "output_type": "display_data"
    }
   ],
   "source": [
    "#create seaborn lineplots for the US gas prices and the CA gas prices\n",
    "sns.lineplot(data=df,x=\"date\",y=\"price_us\",label=\"US Gas Prices\")\n",
    "sns.lineplot(data=df,x=\"date\",y=\"price_ca\",label=\"CA Gas Prices\")\n",
    "\n",
    "#set title of the plot and include legend\n",
    "plt.title(\"Gas Prices of the US and of CA\")\n",
    "plt.legend()\n",
    "\n",
    "#change x and y axis labels\n",
    "plt.xlabel(\"Year\")\n",
    "plt.ylabel(\"Price ($)\")\n",
    "\n",
    "#show plot\n",
    "plt.show()"
   ]
  },
  {
   "attachments": {},
   "cell_type": "markdown",
   "metadata": {},
   "source": [
    "From the line chart, we can see that prices have definitely increased over the past 20 years. There have been a few notable spikes and drops in the gas prices, but it is safe to say that there is an upward trend in the prices. There is a strong correlation between the prices of California and of the US. However, we can see that there has been a separation between the prices since the beginning of the dataset, and it seems that the separation is increasing. We can take a closer look at that. "
   ]
  },
  {
   "attachments": {},
   "cell_type": "markdown",
   "metadata": {},
   "source": [
    "### EDA: Analysis of Difference in Gas Prices Between California and the US"
   ]
  },
  {
   "attachments": {},
   "cell_type": "markdown",
   "metadata": {},
   "source": [
    "To analyze how the difference in gas prices between California and the US is increasing, we can calculate the difference at each datapoint and then plot a line chart to see if there indeed is a increase."
   ]
  },
  {
   "cell_type": "code",
   "execution_count": 35,
   "metadata": {},
   "outputs": [
    {
     "data": {
      "image/png": "[encoded data removed]",
      "text/plain": [
       "<Figure size 640x480 with 1 Axes>"
      ]
     },
     "metadata": {},
     "output_type": "display_data"
    }
   ],
   "source": [
    "#get difference between CA gas prices and US gas prices\n",
    "diff = df[\"price_ca\"] - df[\"price_us\"]\n",
    "df2 = {'year': df['date'],\n",
    "       'diff': diff}\n",
    "\n",
    "sns.lineplot(data=df2,x='year',y='diff')\n",
    "\n",
    "#set title of the plot and include legend\n",
    "plt.title(\"Difference Between Gas Prices of CA and US\")\n",
    "\n",
    "#change x and y axis labels\n",
    "plt.xlabel(\"Year\")\n",
    "plt.ylabel(\"Price ($)\")\n",
    "\n",
    "#show plot\n",
    "plt.show()"
   ]
  },
  {
   "attachments": {},
   "cell_type": "markdown",
   "metadata": {},
   "source": [
    "As we can see from the plotted line chart, there is data that suggests that California's gas prices are increasing more than that of the US' gas prices. Something interesting to note is that the line chart displays a line that looks similar to that of exponential growth. However, it cannot be certain that there will be an exponential growth in the difference between California's gas prices and the US' gas prices by simply looking at this line chart since the part with exponential growth is of the most recent years. "
   ]
  },
  {
   "attachments": {},
   "cell_type": "markdown",
   "metadata": {},
   "source": [
    "### EDA: Analysis of US Inflation from 2000 - 2023"
   ]
  },
  {
   "attachments": {},
   "cell_type": "markdown",
   "metadata": {},
   "source": [
    "To get a sense of the prices in the U.S., we plot the inflation of the U.S. through out the years."
   ]
  },
  {
   "cell_type": "code",
   "execution_count": 111,
   "metadata": {},
   "outputs": [
    {
     "data": {
      "image/png": "[encoded data removed]",
      "text/plain": [
       "<Figure size 640x480 with 1 Axes>"
      ]
     },
     "metadata": {},
     "output_type": "display_data"
    }
   ],
   "source": [
    "sns.lineplot(data=df,x=\"date\",y=\"inflation\")\n",
    "\n",
    "#set title of the plot and include legend\n",
    "plt.title(\"Inflation in the US\")\n",
    "\n",
    "#change x and y axis labels\n",
    "plt.xlabel(\"Year\")\n",
    "plt.ylabel(\"Inflation (%)\")\n",
    "plt.show()"
   ]
  },
  {
   "attachments": {},
   "cell_type": "markdown",
   "metadata": {},
   "source": [
    "When analyzing the graph of the inflation in the U.S. and comparing it to the price of gas in the U.S., we can see that the gas prices of both the U.S. and California spikes in price similar to inflation. Similar to above, this graph shows that there is a line that has some exponential growth; it is very appearant in the past few years. We can see that there is correlation between gas prices and inflation when the graph spikes in notable years such as 2008, 2012 and 2021."
   ]
  },
  {
   "cell_type": "markdown",
   "metadata": {},
   "source": []
  }
 ],
 "metadata": {
  "kernelspec": {
   "display_name": "Python 3",
   "language": "python",
   "name": "python3"
  },
  "language_info": {
   "codemirror_mode": {
    "name": "ipython",
    "version": 3
   },
   "file_extension": ".py",
   "mimetype": "text/x-python",
   "name": "python",
   "nbconvert_exporter": "python",
   "pygments_lexer": "ipython3",
   "version": "3.10.5"
  }
 },
 "nbformat": 4,
 "nbformat_minor": 2
}

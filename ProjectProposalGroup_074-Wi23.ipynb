{
 "cells": [
  {
   "cell_type": "markdown",
   "metadata": {},
   "source": [
    "# COGS 108 - Final Project Proposal"
   ]
  },
  {
   "cell_type": "markdown",
   "metadata": {},
   "source": [
    "# Names\n",
    "\n",
    "- Gideon Chan\n",
    "- Nancy Jiang\n",
    "- Elliot Kim\n",
    "- Harrison Nguyen\n",
    "- Jose Mateo"
   ]
  },
  {
   "cell_type": "markdown",
   "metadata": {},
   "source": [
    "# Research Question"
   ]
  },
  {
   "cell_type": "markdown",
   "metadata": {},
   "source": [
    "How well can we model the gas prices of California and the United States? How do the models compare to each other?\n"
   ]
  },
  {
   "cell_type": "markdown",
   "metadata": {},
   "source": [
    "## Background and Prior Work"
   ]
  },
  {
   "cell_type": "markdown",
   "metadata": {},
   "source": [
    "Because most of us drive cars as our primary way of transportation, gasoline prices are of a great relevance to us. As we are all current residents of California, we are interested in how the gasoline prices near us relate to the rest of the United States. We are also interested to see how the trends of the gas prices compare between California and the United States as a whole. It is notable that gas prices have been increasing as time passes, so we wanted to see if the comparison shows correlation or if they are separate. \n",
    "\n",
    "\"A surge in demand for gasoline is one contributing factor that is escalating prices [in California]\" (1). News articles are noting an increase of gas prices based on demand in California. They say that a contributer to the increasing demand is the extreme weather conditions in California. Since the extreme weather conditions pertain to only in California, the increase in demand and thus the increase in gas prices suggest that there is some separation between the correlation of gas prices between California and the United States as a whole. \n",
    "\n",
    "It is well known that the gas prices in California are much higher than the national average. According to PBS, \"consumers in California were paying roughly \\\\$2.61 per gallon more than the national average for gas. The average there is about \\\\$6.15 a gallon now.\" (2). In this discussion with Professor Severin Borenstein of UC Berkeley, Professor Borenstein points out some differences between California and the rest of the country. For example, he notes that California has higher gas taxes than the rest of the country, and that it uses a clearner-burning gasoline that costs a little more to make. However, a question that is raised during the discussion is that there is some uncertainty as to where money is going. The increase in California's gas prices \"have averaged an extra 30 cents a gallon higher than the rest of the country, beyond what you can explain through higher taxes and fees.\" (2). There are some uncertainties as to why California's gas prices are increasing more than the rest of the United States. This is an interesting statement to note, and can be verified through our project's models. \n",
    "\n",
    "\n",
    "References:\n",
    "1. https://www.sacbee.com/news/california/article271522417.html\n",
    "2. https://www.pbs.org/newshour/show/why-gas-prices-are-so-much-higher-in-california-and-how-the-state-is-reacting\n"
   ]
  },
  {
   "cell_type": "markdown",
   "metadata": {},
   "source": [
    "# Hypothesis\n"
   ]
  },
  {
   "attachments": {},
   "cell_type": "markdown",
   "metadata": {},
   "source": [
    "We speculate that there is a correlation between the trends of the gas prices of California and the United States. However, we also believe that there's no relationship between the gas prices of California and gas prices of the United States. Null hypothesis: There is no correlation between the trends of the U.S. and California gasoline prices and there's no relationship between the gas prices of California and gas prices of the United States.\n",
    "\n",
    "The data seems to demonstrate similarities in the trends of the gas prices between California and the United States, and as discussed previously, research shows that California gas prices are significantly higher than gas prices from the United States."
   ]
  },
  {
   "cell_type": "markdown",
   "metadata": {},
   "source": [
    "# Data"
   ]
  },
  {
   "cell_type": "markdown",
   "metadata": {},
   "source": [
    "1. An ideal dataset would contain all changes in gas prices throughout history from the first recorded rate of All Grades All Formulations Retail Gasoline Prices (Dollars per Gallon), as well as these changes from all gas locations for the specified region. More specifically, two individual datasets would be ideal, one for California and one for the United States, that have all these changes in gas prices over time and from all gas locations. As many observations as we can attain would be ideal to truly see the trends in the data. The data could potentially be recorded by keeping track of all gas prices from all gas locations and be organized by daily changes in gas prices and what region they pertain to.\n",
    "1. Our search resulted in utilizing the two following datasets: 1. U.S. All Grades All Formulations Retail Gasoline Prices (Dollars per Gallon) and 2. Weekly California All Grades All Formulations Retail Gasoline Prices (Dollars per Gallon). The first dataset demonstrates the gas prices from April 1993 to February 2023 broken down by week. The second data set demonstrates the gas prices from May 2000 to February 2023 broken down by week as well.\n",
    "\n",
    "Link to the dataset #1: https://www.eia.gov/dnav/pet/hist/LeafHandler.ashx?n=pet&s=emm_epm0_pte_nus_dpg&f=m\n",
    "\n",
    "Link to the dataset #2: https://www.eia.gov/dnav/pet/hist/LeafHandler.ashx?n=pet&s=emm_epm0_pte_sca_dpg&f=w"
   ]
  },
  {
   "cell_type": "markdown",
   "metadata": {},
   "source": [
    "# Ethics & Privacy"
   ]
  },
  {
   "cell_type": "markdown",
   "metadata": {},
   "source": [
    "For our project, we will be utilizing two datasets— one containing historical gas prices for California, and the other containing gas prices for the entirety of the United States. Because the data we are using does not contain any personal information, there are no privacy concerns with the data we have proposed. Additionally, the data we will be using is not subject to collection bias, because the results were not collected via a survey or by any means in which bias could have been introduced.\n",
    "\n",
    "Despite the absence of these biases, there are still some considerations our group must make when working with this data. Firstly, these datasets do not account for inflation, so the prices of gas, the further we go back in the data, are slightly lower than the actual values of gasoline at those points in time. Luckily, the EIA provides utilities allowing us to compare gas prices with and without adjusting for inflation. Secondly, these datasets take all formulations of gasoline into account from every part of the country, so states in which people generally pay for a higher grade of gasoline could have slightly inflated values compared to other states. This could make the prices appear slightly lower to those who buy premium gasoline, and similarly could make prices appear higher to those who buy normal gasoline. Because we will be comparing California's prices to the rest of the United States, we must consider the grade of fuel a typical California resident would purchase compared to a non-Californian.\n"
   ]
  },
  {
   "cell_type": "markdown",
   "metadata": {},
   "source": [
    "# Team Expectations "
   ]
  },
  {
   "cell_type": "markdown",
   "metadata": {},
   "source": [
    "\n",
    "\n",
    "* Divide tasks fairly such that no one person is doing the majority of the work and be accountable for your work\n",
    "* When discussing ideas for the project, give contructive criticism to make improvements and be respectful of others \n",
    "* Clearly communicate with other members when meeting deadlines and if something is unclear, don't be afraid to ask for advice\n",
    "* Create a clear strategy and plan for completing the deadlines and project on time with some flexibility\n",
    "* If something comes up in life for someone, others should try their best to help accommodate\n",
    "* If there is disagreement over something, actively discuss to reach a solution and be prepared to make comprimises"
   ]
  },
  {
   "cell_type": "markdown",
   "metadata": {},
   "source": [
    "# Project Timeline Proposal"
   ]
  },
  {
   "cell_type": "markdown",
   "metadata": {},
   "source": [
    "This is a rough timeline since due dates for checkpoint 2 and final project are unclear at the moment, this is meant to allow for some flexibility.\n",
    "\n",
    "| Meeting Date  | Meeting Time| Completed Before Meeting  | Discuss at Meeting |\n",
    "|---|---|---|---|\n",
    "| 2/26  |  12 pm | Come up with ideas for the project and look for possible datasets  | Pick an idea for the project and decide roles for the project proposal. | \n",
    "| 3/5  |  Before 11:59 PM |  Do background research on topic and turn in project proposal for checkpoint 1 | Share ideas for how to analytically approach the project and discuss wrangling. Assign roles for checkpoint 2 for wrangling/EDA| \n",
    "| 3/12  | Before 11:59 PM  | Import/wrangle data and work on EDA. Complete and turn in project checkpoint 2 and begin analysis if possible | Review project so far and discuss what needs to be done in future to meet deadlines. Discuss possible improvements to be made for next week|\n",
    "| 3/17  | 6 PM  | Finalize wrangling/EDA and check in on analysis portion of project| Discuss analysis plan and assign roles for the analysis portion of the project. |\n",
    "| 3/20  | 6 PM  | Finalize analysis and draft results,discussion, and conclusion | Review analysis and discuss what we want to write for the results and conclusion. Review project as a whole and discuss any last minute edits that need to be made|\n",
    "| 3/22  | 6 PM | Finalize results, discussion, and conclusion  | Read through project and confirm that people are happy with it. |\n",
    "| 3/24  | N/A | Turn in final project and complete group surveys. | N/A |"
   ]
  },
  {
   "cell_type": "code",
   "execution_count": null,
   "metadata": {},
   "outputs": [],
   "source": []
  }
 ],
 "metadata": {
  "kernelspec": {
   "display_name": "Python 3 (ipykernel)",
   "language": "python",
   "name": "python3"
  },
  "language_info": {
   "codemirror_mode": {
    "name": "ipython",
    "version": 3
   },
   "file_extension": ".py",
   "mimetype": "text/x-python",
   "name": "python",
   "nbconvert_exporter": "python",
   "pygments_lexer": "ipython3",
   "version": "3.9.9"
  },
  "vscode": {
   "interpreter": {
    "hash": "f5ff168696553f3e2cb115c273c46eeb315c32b0d0536992c4bad2740a7f9469"
   }
  }
 },
 "nbformat": 4,
 "nbformat_minor": 2
}
